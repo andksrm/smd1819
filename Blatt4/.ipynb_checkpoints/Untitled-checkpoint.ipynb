{
 "cells": [
  {
   "cell_type": "code",
   "execution_count": 48,
   "metadata": {},
   "outputs": [
    {
     "name": "stdout",
     "output_type": "stream",
     "text": [
      "[5.98644821 3.0852829 ]\n",
      "[-0.02743075  2.97994465]\n"
     ]
    }
   ],
   "source": [
    "import pandas as pd\n",
    "import h5py\n",
    "\n",
    "data_P1=pd.read_hdf('zwei_populationen.h5', key='P_1')\n",
    "data_P0=pd.read_hdf('zwei_populationen.h5', key='P_0_10000')\n",
    "\n",
    "mu_P1=np.array([sum(data_P1[\"x\"])/len(data_P1[\"x\"]),sum(data_P1[\"y\"])/len(data_P1[\"y\"])])\n",
    "mu_P0=np.array([sum(data_P0[\"x\"])/len(data_P0[\"x\"]),sum(data_P0[\"y\"])/len(data_P0[\"y\"])])\n",
    "\n",
    "print(mu_P1)\n",
    "print(mu_P0)"
   ]
  },
  {
   "cell_type": "code",
   "execution_count": null,
   "metadata": {},
   "outputs": [],
   "source": []
  }
 ],
 "metadata": {
  "kernelspec": {
   "display_name": "Python 3",
   "language": "python",
   "name": "python3"
  },
  "language_info": {
   "codemirror_mode": {
    "name": "ipython",
    "version": 3
   },
   "file_extension": ".py",
   "mimetype": "text/x-python",
   "name": "python",
   "nbconvert_exporter": "python",
   "pygments_lexer": "ipython3",
   "version": "3.7.0"
  }
 },
 "nbformat": 4,
 "nbformat_minor": 2
}
